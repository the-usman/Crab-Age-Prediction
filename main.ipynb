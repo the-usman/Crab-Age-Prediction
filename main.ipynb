{
 "cells": [
  {
   "cell_type": "code",
   "execution_count": null,
   "metadata": {},
   "outputs": [],
   "source": [
    "# Competition Link  :   https://www.kaggle.com/competitions/playground-series-s3e16/data\n",
    "\n",
    "# Evaluation : Mean Absolute Error (MAE)"
   ]
  },
  {
   "cell_type": "code",
   "execution_count": null,
   "metadata": {},
   "outputs": [],
   "source": [
    "import pandas as pd\n",
    "import numpy as np \n",
    "from ydata_profiling import ProfileReport"
   ]
  },
  {
   "cell_type": "code",
   "execution_count": null,
   "metadata": {},
   "outputs": [],
   "source": [
    "data = pd.read_csv('data/train.csv')\n",
    "\n",
    "def Overview (data) :\n",
    "    profile = ProfileReport( data)\n",
    "    profile.to_file('output.html')\n",
    "\n",
    "\n",
    "# Overview(data)\n"
   ]
  },
  {
   "cell_type": "code",
   "execution_count": null,
   "metadata": {},
   "outputs": [],
   "source": [
    "data.shape"
   ]
  },
  {
   "cell_type": "code",
   "execution_count": null,
   "metadata": {},
   "outputs": [],
   "source": [
    "data.describe()"
   ]
  },
  {
   "cell_type": "code",
   "execution_count": null,
   "metadata": {},
   "outputs": [],
   "source": [
    "# As Univarient analysis is perform in Profile Report so we foucs on multivarient Data Analysis"
   ]
  },
  {
   "cell_type": "code",
   "execution_count": null,
   "metadata": {},
   "outputs": [],
   "source": [
    "import matplotlib.pyplot as plt \n",
    "import seaborn as sns \n",
    "import plotly.express as px\n",
    "%matplotlib inline"
   ]
  },
  {
   "cell_type": "code",
   "execution_count": null,
   "metadata": {},
   "outputs": [],
   "source": [
    "px.scatter(data, x='Age', y='Length', color='Sex')"
   ]
  },
  {
   "cell_type": "code",
   "execution_count": null,
   "metadata": {},
   "outputs": [],
   "source": [
    "px.histogram(data, x='Age', color='Sex')"
   ]
  },
  {
   "cell_type": "code",
   "execution_count": null,
   "metadata": {},
   "outputs": [],
   "source": [
    "# from this graph we can clearly see age Sex effect the  averagae of the data"
   ]
  },
  {
   "cell_type": "code",
   "execution_count": null,
   "metadata": {},
   "outputs": [],
   "source": [
    "def MultiVarient (data, y,  x='Age', color='Sex') :\n",
    "    fig = px.scatter(data, x=x, y=y, color=color, title=f\"Data of Column is   :  {y}\")\n",
    "    fig.show()\n"
   ]
  },
  {
   "cell_type": "code",
   "execution_count": null,
   "metadata": {},
   "outputs": [],
   "source": [
    "# sample_data = data.sample(2000)\n",
    "\n",
    "# for column in data.columns :\n",
    "#     if column != 'Sex' or column != 'id' or column != 'Age' :\n",
    "#         MultiVarient(data, column)"
   ]
  },
  {
   "cell_type": "code",
   "execution_count": null,
   "metadata": {},
   "outputs": [],
   "source": [
    "# Outcomes :\n",
    "# 1 -> Length has linear Type of relation with Age \n",
    "# 2 -> Length of I Crabs is smaller then males and females\n",
    "# 3 -> Diameter has linear Type of relation with Age\n",
    "# 4 -> The Diameter of female crab at early age have has large dia meter then males and I\n",
    "# 5 -> I types of diameters have and small dia meter then other crabs\n",
    "# 6 -> \"I\" has small height then other crabs\n",
    "# 7 -> Female crabs have averagely more weights then other crabs\n",
    "# 8 -> I also small heights"
   ]
  },
  {
   "cell_type": "code",
   "execution_count": null,
   "metadata": {},
   "outputs": [],
   "source": [
    "from scipy import stats\n",
    "\n",
    "def CheckSkewness (data, column) :\n",
    "    plt.figure(figsize=(14,8))\n",
    "\n",
    "    plt.subplot(121)\n",
    "    plt.title(f\"The Density Plot of {column}\")\n",
    "    sns.kdeplot(data[column])\n",
    "    plt.subplot(122)\n",
    "    plt.title(f\"The Density Plot of {column}\")\n",
    "    stats.probplot(data[column], dist='norm', plot=plt)\n",
    "    plt.tight_layout()\n",
    "    plt.show()"
   ]
  },
  {
   "cell_type": "code",
   "execution_count": null,
   "metadata": {},
   "outputs": [],
   "source": [
    "CheckSkewness(data, 'Age')"
   ]
  },
  {
   "cell_type": "code",
   "execution_count": null,
   "metadata": {},
   "outputs": [],
   "source": [
    "numrical_column = data.select_dtypes(np.number)\n",
    "for column in numrical_column.columns :\n",
    "    CheckSkewness(data, column=column)"
   ]
  },
  {
   "cell_type": "code",
   "execution_count": null,
   "metadata": {},
   "outputs": [],
   "source": [
    "def CreatingDistPlot(data, column, target='Age'):\n",
    "    plt.title(f\"The Density Plot of {column}\")\n",
    "    sns.kdeplot(data[column], label=column)\n",
    "    sns.kdeplot(data[target], label=target)\n",
    "    plt.legend()\n",
    "    plt.show()"
   ]
  },
  {
   "cell_type": "code",
   "execution_count": null,
   "metadata": {},
   "outputs": [],
   "source": [
    "CreatingDistPlot(data, 'Length', 'Age')"
   ]
  },
  {
   "cell_type": "code",
   "execution_count": null,
   "metadata": {},
   "outputs": [],
   "source": [
    "for column in numrical_column.columns :\n",
    "    if column != 'id' :\n",
    "        CreatingDistPlot(data, column)"
   ]
  },
  {
   "cell_type": "code",
   "execution_count": null,
   "metadata": {},
   "outputs": [],
   "source": [
    "# Now check the Outliers\n",
    "data.index = data['id']\n",
    "numrical_column.index = data['id']"
   ]
  },
  {
   "cell_type": "code",
   "execution_count": null,
   "metadata": {},
   "outputs": [],
   "source": [
    "for column in numrical_column.columns :\n",
    "    print(column)\n",
    "    sns.boxplot(data[column])\n",
    "    plt.show()"
   ]
  },
  {
   "cell_type": "code",
   "execution_count": null,
   "metadata": {},
   "outputs": [],
   "source": [
    "#  As age also have outliers so we ignore and we can review on this discesion later on"
   ]
  },
  {
   "cell_type": "code",
   "execution_count": null,
   "metadata": {},
   "outputs": [],
   "source": [
    "# One Hot Encoding \n",
    "from sklearn.preprocessing import OneHotEncoder\n",
    "from sklearn.compose import ColumnTransformer\n",
    "\n",
    "trf1 = ColumnTransformer([\n",
    "    ('ohe', OneHotEncoder(sparse=False, drop='first'), ['Sex'])\n",
    "], remainder='passthrough', verbose_feature_names_out=False).set_output(transform='pandas')"
   ]
  },
  {
   "cell_type": "code",
   "execution_count": null,
   "metadata": {},
   "outputs": [],
   "source": [
    "# Spliting the Data into train and test \n",
    "from sklearn.model_selection import train_test_split\n",
    "inputs = data.drop(['id', 'Age'], axis=1)\n",
    "targets = data['Age']\n",
    "\n",
    "X_train, x_test, y_train, y_test = train_test_split(inputs, targets, test_size=0.2)"
   ]
  },
  {
   "cell_type": "code",
   "execution_count": null,
   "metadata": {},
   "outputs": [],
   "source": [
    "# Make the normal distribution of data \n",
    "# As most of data is left skew so we cannot apply log transformation\n",
    "\n",
    "from sklearn.preprocessing import PowerTransformer\n",
    "\n",
    "trf2 = ColumnTransformer([\n",
    "    ('normalize', PowerTransformer(), ['Length', 'Diameter', 'Height', 'Weight', 'Shucked Weight',\n",
    "        'Viscera Weight', 'Shell Weight'])\n",
    "], remainder='passthrough', verbose_feature_names_out=False).set_output(transform='pandas')"
   ]
  },
  {
   "cell_type": "code",
   "execution_count": null,
   "metadata": {},
   "outputs": [],
   "source": [
    "# Making the pipeline\n",
    "from sklearn.pipeline import Pipeline\n",
    "pipe = Pipeline([\n",
    "    ('encoding', trf1),\n",
    "    ('normalize', trf2),\n",
    "])\n",
    "\n",
    "X_train = pipe.fit_transform(X_train)\n",
    "X_test = pipe.transform(x_test)\n"
   ]
  },
  {
   "cell_type": "code",
   "execution_count": null,
   "metadata": {},
   "outputs": [],
   "source": [
    "X_train"
   ]
  },
  {
   "cell_type": "code",
   "execution_count": null,
   "metadata": {},
   "outputs": [],
   "source": [
    "# Model Training "
   ]
  },
  {
   "cell_type": "code",
   "execution_count": null,
   "metadata": {},
   "outputs": [],
   "source": [
    "from sklearn.linear_model import LinearRegression\n",
    "from sklearn.neighbors import KNeighborsRegressor\n",
    "from sklearn.linear_model import Ridge\n",
    "from sklearn.ensemble import RandomForestRegressor\n",
    "from xgboost import XGBRegressor\n",
    "from lightgbm import LGBMRegressor\n",
    "from catboost import CatBoostRegressor\n",
    "from sklearn.metrics import mean_absolute_error"
   ]
  },
  {
   "cell_type": "code",
   "execution_count": null,
   "metadata": {},
   "outputs": [],
   "source": [
    "def CheckInitialModelPerformances (X_train, y_train, X_test, y_test) :\n",
    "    model_dict  = {\n",
    "        'Linear' : LinearRegression(),\n",
    "        'Ridge' : Ridge(alpha=0.2),\n",
    "        'KNN' : KNeighborsRegressor(n_neighbors=4, n_jobs=-1),\n",
    "        'Random' : RandomForestRegressor(random_state=42, n_jobs=-1),\n",
    "        'XGB' : XGBRegressor(random_state=42, objective= 'reg:linear', eval_metric = 'mae'),\n",
    "        'LightBGM' : LGBMRegressor(random_state=42, n_jobs=-1, objective = 'regression',metric= 'mae'),\n",
    "        'CatB' : CatBoostRegressor(random_state=42, loss_function='MAE', verbose=False)\n",
    "    }\n",
    "\n",
    "    \n",
    "    best_model_keys = model_dict.keys()\n",
    "    best_model = {} \n",
    "\n",
    "    for model_name, model in model_dict.items():\n",
    "        # print(\"Model is: \", model_name)\n",
    "        model.fit(X_train, y_train)\n",
    "        pred = model.predict(X_test)\n",
    "        mae = mean_absolute_error(y_test, pred)\n",
    "        best_model[model_name] = mae \n",
    "    return best_model\n",
    "\n"
   ]
  },
  {
   "cell_type": "code",
   "execution_count": null,
   "metadata": {},
   "outputs": [],
   "source": [
    "models = CheckInitialModelPerformances(X_train, y_train, X_test, y_test)"
   ]
  },
  {
   "cell_type": "code",
   "execution_count": null,
   "metadata": {},
   "outputs": [],
   "source": [
    "models"
   ]
  },
  {
   "cell_type": "code",
   "execution_count": null,
   "metadata": {},
   "outputs": [],
   "source": [
    "best_model_key = min(models, key=models.get)\n",
    "best_model = models[best_model_key]\n"
   ]
  },
  {
   "cell_type": "code",
   "execution_count": null,
   "metadata": {},
   "outputs": [],
   "source": [
    "best_model"
   ]
  },
  {
   "cell_type": "code",
   "execution_count": null,
   "metadata": {},
   "outputs": [],
   "source": [
    "def HyperParameterTuning(model_name, **params):\n",
    "    cat_dict = {}\n",
    "    random_dict = {}\n",
    "    lgb_dict = {}\n",
    "    xgb_dict = {}\n",
    "    \n",
    "    if model_name == 'CatB':\n",
    "        cat_dict = params\n",
    "    if model_name == 'Random':\n",
    "        random_dict = params\n",
    "    if model_name == 'LightBGM':\n",
    "        lgb_dict = params\n",
    "    if model_name == 'XGB':\n",
    "        xgb_dict = params\n",
    "    \n",
    "    model_dict = {\n",
    "        'Random': RandomForestRegressor(random_state=42, n_jobs=-1, **random_dict),\n",
    "        'XGB': XGBRegressor(random_state=42, objective='reg:linear', eval_metric='mae', **xgb_dict),\n",
    "        'LightBGM': LGBMRegressor(random_state=42, n_jobs=-1, objective='regression', metric='mae', **lgb_dict),\n",
    "        'CatB': CatBoostRegressor(random_state=42, loss_function='MAE', verbose=False, **cat_dict)\n",
    "    }\n",
    "    \n",
    "    print(\"Model  :   \", model_name)\n",
    "    model_dict[model_name].fit(X_train, y_train)\n",
    "    pred = model_dict[model_name].predict(X_test)\n",
    "    mae = mean_absolute_error(y_test, pred)\n",
    "    print(\"Mean Absolute Error :  \", mae)"
   ]
  },
  {
   "cell_type": "code",
   "execution_count": null,
   "metadata": {},
   "outputs": [],
   "source": [
    "HyperParameterTuning('CatB', iterations=200, depth=6, learning_rate=0.3)\n",
    "# Best is defualt"
   ]
  },
  {
   "cell_type": "code",
   "execution_count": null,
   "metadata": {},
   "outputs": [],
   "source": [
    "HyperParameterTuning('XGB', n_estimators=200, learning_rate=0.1, max_depth=5, gamma=0.2, subsample=0.9, colsample_bytree=0.9)\n"
   ]
  },
  {
   "cell_type": "code",
   "execution_count": null,
   "metadata": {},
   "outputs": [],
   "source": [
    "HyperParameterTuning('LightBGM', n_estimators=100, learning_rate=0.1, max_depth=8, subsample=0.7, colsample_bytree=0.7, reg_alpha=0.1, reg_lambda=0.1, min_child_samples=15, num_leaves=28)\n"
   ]
  },
  {
   "cell_type": "code",
   "execution_count": null,
   "metadata": {},
   "outputs": [],
   "source": [
    "HyperParameterTuning('Random', n_estimators=200, max_depth=8, min_samples_split=3, min_samples_leaf=2, max_features=9, bootstrap=True)\n"
   ]
  },
  {
   "cell_type": "code",
   "execution_count": null,
   "metadata": {},
   "outputs": [],
   "source": [
    "final_pipe = Pipeline([\n",
    "    ('encoding', trf1),\n",
    "    ('Normalizing', trf2),\n",
    "    ('model', CatBoostRegressor(random_state=42, loss_function='MAE', verbose=False)),\n",
    "])"
   ]
  },
  {
   "cell_type": "code",
   "execution_count": null,
   "metadata": {},
   "outputs": [],
   "source": [
    "test_data = pd.read_csv('data/test.csv',index_col=[0])"
   ]
  },
  {
   "cell_type": "code",
   "execution_count": null,
   "metadata": {},
   "outputs": [],
   "source": [
    "test_data"
   ]
  },
  {
   "cell_type": "code",
   "execution_count": null,
   "metadata": {},
   "outputs": [],
   "source": [
    "final_pipe.fit(inputs, targets)"
   ]
  },
  {
   "cell_type": "code",
   "execution_count": null,
   "metadata": {},
   "outputs": [],
   "source": [
    "pred = final_pipe.predict(test_data)"
   ]
  },
  {
   "cell_type": "code",
   "execution_count": null,
   "metadata": {},
   "outputs": [],
   "source": [
    "predictions = pd.read_csv('data/sample_submission.csv')"
   ]
  },
  {
   "cell_type": "code",
   "execution_count": null,
   "metadata": {},
   "outputs": [],
   "source": [
    "predictions['Age'] = pred"
   ]
  },
  {
   "cell_type": "code",
   "execution_count": null,
   "metadata": {},
   "outputs": [],
   "source": [
    "predictions.to_csv('prediction.csv', index=False)"
   ]
  },
  {
   "cell_type": "code",
   "execution_count": 116,
   "metadata": {},
   "outputs": [],
   "source": [
    "# this model is one of the top 35% models"
   ]
  },
  {
   "cell_type": "code",
   "execution_count": null,
   "metadata": {},
   "outputs": [],
   "source": []
  }
 ],
 "metadata": {
  "kernelspec": {
   "display_name": "Python 3",
   "language": "python",
   "name": "python3"
  },
  "language_info": {
   "codemirror_mode": {
    "name": "ipython",
    "version": 3
   },
   "file_extension": ".py",
   "mimetype": "text/x-python",
   "name": "python",
   "nbconvert_exporter": "python",
   "pygments_lexer": "ipython3",
   "version": "3.11.3"
  }
 },
 "nbformat": 4,
 "nbformat_minor": 2
}
